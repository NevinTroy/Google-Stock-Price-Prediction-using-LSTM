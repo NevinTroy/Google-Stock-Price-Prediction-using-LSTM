{
 "cells": [
  {
   "cell_type": "markdown",
   "id": "43e657cc",
   "metadata": {},
   "source": [
    "## LSTM for predicting google stock prices"
   ]
  },
  {
   "cell_type": "markdown",
   "id": "d1b03a78",
   "metadata": {},
   "source": [
    "### Data preprocessing"
   ]
  },
  {
   "cell_type": "code",
   "execution_count": 2,
   "id": "c59fb758",
   "metadata": {},
   "outputs": [],
   "source": [
    "import numpy as np\n",
    "import matplotlib.pyplot as plt\n",
    "import pandas as pd\n",
    "import os"
   ]
  },
  {
   "cell_type": "code",
   "execution_count": 4,
   "id": "7ed967c0",
   "metadata": {},
   "outputs": [],
   "source": [
    "df_train=pd.read_csv(r\"dataset\\Google_Stock_Price_Train.csv\")"
   ]
  },
  {
   "cell_type": "code",
   "execution_count": 5,
   "id": "24a0fd38",
   "metadata": {},
   "outputs": [],
   "source": [
    "training_set=df_train.iloc[:,1:2].values"
   ]
  },
  {
   "cell_type": "code",
   "execution_count": 6,
   "id": "224f511d",
   "metadata": {},
   "outputs": [],
   "source": [
    "#feature scaling\n",
    "from sklearn.preprocessing import MinMaxScaler\n",
    "sc=MinMaxScaler()\n",
    "training_set_scaled=sc.fit_transform(training_set)"
   ]
  },
  {
   "cell_type": "code",
   "execution_count": 8,
   "id": "6e0ddc2f",
   "metadata": {},
   "outputs": [],
   "source": [
    "#creating a data structure with 60 timestamps and 1 output\n",
    "x_train = []\n",
    "y_train = []\n",
    "for i in range(60,1258):\n",
    "    x_train.append(training_set_scaled[i-60:i,0])\n",
    "    y_train.append(training_set_scaled[i,0])\n",
    "    \n",
    "x_train, y_train = np.array(x_train), np.array(y_train)"
   ]
  },
  {
   "cell_type": "code",
   "execution_count": 13,
   "id": "799ae149",
   "metadata": {},
   "outputs": [],
   "source": [
    "#reshaping to 3D tensor required for the rnn\n",
    "x_train=np.reshape(x_train,(x_train.shape[0],x_train.shape[1],1))"
   ]
  },
  {
   "cell_type": "markdown",
   "id": "0e9b38e6",
   "metadata": {},
   "source": [
    "### Building the LSTM"
   ]
  },
  {
   "cell_type": "code",
   "execution_count": 14,
   "id": "3ee08ad5",
   "metadata": {},
   "outputs": [],
   "source": [
    "from keras.models import Sequential\n",
    "from keras.layers import Dense, LSTM, Dropout"
   ]
  },
  {
   "cell_type": "code",
   "execution_count": 15,
   "id": "e1f92876",
   "metadata": {},
   "outputs": [],
   "source": [
    "#Initializing the RNN\n",
    "regressor=Sequential()\n",
    "\n",
    "#adding the first LSTM layer and some dropout regularization\n",
    "regressor.add(LSTM(units=50,return_sequences=True,input_shape=(x_train.shape[1],1)))\n",
    "regressor.add(Dropout(rate=0.2))\n",
    "\n",
    "#second LSTM layer\n",
    "regressor.add(LSTM(units=50,return_sequences=True))\n",
    "regressor.add(Dropout(rate=0.2))\n",
    "\n",
    "#third LSTM layer\n",
    "regressor.add(LSTM(units=50,return_sequences=True))\n",
    "regressor.add(Dropout(rate=0.2))\n",
    "\n",
    "#fourth LSTM layer\n",
    "regressor.add(LSTM(units=50,return_sequences=False))\n",
    "regressor.add(Dropout(rate=0.2))\n",
    "\n",
    "#adding the output layer\n",
    "regressor.add(Dense(units=1))"
   ]
  },
  {
   "cell_type": "code",
   "execution_count": 16,
   "id": "401b6261",
   "metadata": {},
   "outputs": [],
   "source": [
    "#compiling the rnn\n",
    "regressor.compile(optimizer='adam', loss='mean_squared_error')"
   ]
  },
  {
   "cell_type": "code",
   "execution_count": 17,
   "id": "53b21556",
   "metadata": {
    "scrolled": true
   },
   "outputs": [
    {
     "name": "stdout",
     "output_type": "stream",
     "text": [
      "Epoch 1/100\n",
      "38/38 [==============================] - 16s 125ms/step - loss: 0.0353\n",
      "Epoch 2/100\n",
      "38/38 [==============================] - 5s 120ms/step - loss: 0.0065\n",
      "Epoch 3/100\n",
      "38/38 [==============================] - 4s 115ms/step - loss: 0.0051\n",
      "Epoch 4/100\n",
      "38/38 [==============================] - 4s 111ms/step - loss: 0.0065\n",
      "Epoch 5/100\n",
      "38/38 [==============================] - 4s 107ms/step - loss: 0.0053\n",
      "Epoch 6/100\n",
      "38/38 [==============================] - 4s 117ms/step - loss: 0.0047\n",
      "Epoch 7/100\n",
      "38/38 [==============================] - 4s 110ms/step - loss: 0.0046\n",
      "Epoch 8/100\n",
      "38/38 [==============================] - 4s 109ms/step - loss: 0.0051\n",
      "Epoch 9/100\n",
      "38/38 [==============================] - 4s 104ms/step - loss: 0.0048\n",
      "Epoch 10/100\n",
      "38/38 [==============================] - 4s 104ms/step - loss: 0.0043\n",
      "Epoch 11/100\n",
      "38/38 [==============================] - 4s 103ms/step - loss: 0.0053\n",
      "Epoch 12/100\n",
      "38/38 [==============================] - 4s 108ms/step - loss: 0.0043\n",
      "Epoch 13/100\n",
      "38/38 [==============================] - 4s 103ms/step - loss: 0.0040\n",
      "Epoch 14/100\n",
      "38/38 [==============================] - 4s 105ms/step - loss: 0.0038\n",
      "Epoch 15/100\n",
      "38/38 [==============================] - 4s 104ms/step - loss: 0.0037\n",
      "Epoch 16/100\n",
      "38/38 [==============================] - 4s 107ms/step - loss: 0.0037\n",
      "Epoch 17/100\n",
      "38/38 [==============================] - 4s 110ms/step - loss: 0.0039\n",
      "Epoch 18/100\n",
      "38/38 [==============================] - 4s 103ms/step - loss: 0.0035\n",
      "Epoch 19/100\n",
      "38/38 [==============================] - 4s 103ms/step - loss: 0.0040\n",
      "Epoch 20/100\n",
      "38/38 [==============================] - 4s 104ms/step - loss: 0.0040\n",
      "Epoch 21/100\n",
      "38/38 [==============================] - 4s 104ms/step - loss: 0.0035\n",
      "Epoch 22/100\n",
      "38/38 [==============================] - 4s 107ms/step - loss: 0.0031\n",
      "Epoch 23/100\n",
      "38/38 [==============================] - 4s 104ms/step - loss: 0.0032\n",
      "Epoch 24/100\n",
      "38/38 [==============================] - 4s 103ms/step - loss: 0.0031\n",
      "Epoch 25/100\n",
      "38/38 [==============================] - 4s 113ms/step - loss: 0.0035\n",
      "Epoch 26/100\n",
      "38/38 [==============================] - 4s 111ms/step - loss: 0.0033\n",
      "Epoch 27/100\n",
      "38/38 [==============================] - 5s 121ms/step - loss: 0.0033\n",
      "Epoch 28/100\n",
      "38/38 [==============================] - 4s 112ms/step - loss: 0.0034\n",
      "Epoch 29/100\n",
      "38/38 [==============================] - 4s 117ms/step - loss: 0.0031\n",
      "Epoch 30/100\n",
      "38/38 [==============================] - 4s 111ms/step - loss: 0.0034\n",
      "Epoch 31/100\n",
      "38/38 [==============================] - 4s 112ms/step - loss: 0.0029\n",
      "Epoch 32/100\n",
      "38/38 [==============================] - 4s 113ms/step - loss: 0.0028\n",
      "Epoch 33/100\n",
      "38/38 [==============================] - 4s 114ms/step - loss: 0.0028\n",
      "Epoch 34/100\n",
      "38/38 [==============================] - 4s 113ms/step - loss: 0.0026\n",
      "Epoch 35/100\n",
      "38/38 [==============================] - 4s 116ms/step - loss: 0.0025\n",
      "Epoch 36/100\n",
      "38/38 [==============================] - 5s 120ms/step - loss: 0.0028\n",
      "Epoch 37/100\n",
      "38/38 [==============================] - 4s 110ms/step - loss: 0.0028\n",
      "Epoch 38/100\n",
      "38/38 [==============================] - 4s 114ms/step - loss: 0.0027\n",
      "Epoch 39/100\n",
      "38/38 [==============================] - 4s 110ms/step - loss: 0.0026\n",
      "Epoch 40/100\n",
      "38/38 [==============================] - 4s 110ms/step - loss: 0.0030\n",
      "Epoch 41/100\n",
      "38/38 [==============================] - 4s 110ms/step - loss: 0.0034\n",
      "Epoch 42/100\n",
      "38/38 [==============================] - 5s 120ms/step - loss: 0.0024\n",
      "Epoch 43/100\n",
      "38/38 [==============================] - 4s 106ms/step - loss: 0.0026\n",
      "Epoch 44/100\n",
      "38/38 [==============================] - 4s 98ms/step - loss: 0.0026\n",
      "Epoch 45/100\n",
      "38/38 [==============================] - 4s 100ms/step - loss: 0.0025\n",
      "Epoch 46/100\n",
      "38/38 [==============================] - 4s 97ms/step - loss: 0.0028\n",
      "Epoch 47/100\n",
      "38/38 [==============================] - 4s 97ms/step - loss: 0.0027\n",
      "Epoch 48/100\n",
      "38/38 [==============================] - 4s 97ms/step - loss: 0.0025\n",
      "Epoch 49/100\n",
      "38/38 [==============================] - 4s 98ms/step - loss: 0.0024\n",
      "Epoch 50/100\n",
      "38/38 [==============================] - 4s 110ms/step - loss: 0.0024\n",
      "Epoch 51/100\n",
      "38/38 [==============================] - 4s 105ms/step - loss: 0.0023\n",
      "Epoch 52/100\n",
      "38/38 [==============================] - 4s 115ms/step - loss: 0.0023\n",
      "Epoch 53/100\n",
      "38/38 [==============================] - 4s 111ms/step - loss: 0.0024\n",
      "Epoch 54/100\n",
      "38/38 [==============================] - 4s 110ms/step - loss: 0.0025\n",
      "Epoch 55/100\n",
      "38/38 [==============================] - 4s 110ms/step - loss: 0.0022\n",
      "Epoch 56/100\n",
      "38/38 [==============================] - 4s 110ms/step - loss: 0.0025\n",
      "Epoch 57/100\n",
      "38/38 [==============================] - 4s 111ms/step - loss: 0.0023\n",
      "Epoch 58/100\n",
      "38/38 [==============================] - 4s 108ms/step - loss: 0.0023\n",
      "Epoch 59/100\n",
      "38/38 [==============================] - 4s 112ms/step - loss: 0.0022\n",
      "Epoch 60/100\n",
      "38/38 [==============================] - 4s 117ms/step - loss: 0.0020\n",
      "Epoch 61/100\n",
      "38/38 [==============================] - 4s 115ms/step - loss: 0.0020\n",
      "Epoch 62/100\n",
      "38/38 [==============================] - 5s 123ms/step - loss: 0.0021\n",
      "Epoch 63/100\n",
      "38/38 [==============================] - 4s 114ms/step - loss: 0.0021\n",
      "Epoch 64/100\n",
      "38/38 [==============================] - 4s 109ms/step - loss: 0.0021\n",
      "Epoch 65/100\n",
      "38/38 [==============================] - 4s 118ms/step - loss: 0.0020\n",
      "Epoch 66/100\n",
      "38/38 [==============================] - 4s 112ms/step - loss: 0.0020\n",
      "Epoch 67/100\n",
      "38/38 [==============================] - 4s 110ms/step - loss: 0.0019\n",
      "Epoch 68/100\n",
      "38/38 [==============================] - 4s 115ms/step - loss: 0.0018\n",
      "Epoch 69/100\n",
      "38/38 [==============================] - 4s 115ms/step - loss: 0.0019\n",
      "Epoch 70/100\n",
      "38/38 [==============================] - 4s 113ms/step - loss: 0.0021\n",
      "Epoch 71/100\n",
      "38/38 [==============================] - 4s 107ms/step - loss: 0.0021\n",
      "Epoch 72/100\n",
      "38/38 [==============================] - 4s 108ms/step - loss: 0.0019\n",
      "Epoch 73/100\n",
      "38/38 [==============================] - 4s 109ms/step - loss: 0.0020\n",
      "Epoch 74/100\n",
      "38/38 [==============================] - 4s 108ms/step - loss: 0.0018\n",
      "Epoch 75/100\n",
      "38/38 [==============================] - 4s 107ms/step - loss: 0.0016\n",
      "Epoch 76/100\n",
      "38/38 [==============================] - 4s 106ms/step - loss: 0.0018\n",
      "Epoch 77/100\n",
      "38/38 [==============================] - 4s 108ms/step - loss: 0.0017\n",
      "Epoch 78/100\n",
      "38/38 [==============================] - 4s 106ms/step - loss: 0.0017\n",
      "Epoch 79/100\n",
      "38/38 [==============================] - 4s 106ms/step - loss: 0.0018\n",
      "Epoch 80/100\n",
      "38/38 [==============================] - 4s 108ms/step - loss: 0.0017\n",
      "Epoch 81/100\n",
      "38/38 [==============================] - 4s 106ms/step - loss: 0.0017\n",
      "Epoch 82/100\n",
      "38/38 [==============================] - 4s 107ms/step - loss: 0.0019\n",
      "Epoch 83/100\n",
      "38/38 [==============================] - 4s 108ms/step - loss: 0.0019\n",
      "Epoch 84/100\n",
      "38/38 [==============================] - 4s 110ms/step - loss: 0.0018\n",
      "Epoch 85/100\n",
      "38/38 [==============================] - 4s 111ms/step - loss: 0.0016\n",
      "Epoch 86/100\n",
      "38/38 [==============================] - 4s 115ms/step - loss: 0.0016\n",
      "Epoch 87/100\n",
      "38/38 [==============================] - 4s 112ms/step - loss: 0.0016\n",
      "Epoch 88/100\n",
      "38/38 [==============================] - 4s 108ms/step - loss: 0.0016\n",
      "Epoch 89/100\n",
      "38/38 [==============================] - 4s 108ms/step - loss: 0.0016\n",
      "Epoch 90/100\n",
      "38/38 [==============================] - 4s 107ms/step - loss: 0.0016\n",
      "Epoch 91/100\n",
      "38/38 [==============================] - 4s 108ms/step - loss: 0.0015\n",
      "Epoch 92/100\n",
      "38/38 [==============================] - 4s 107ms/step - loss: 0.0018\n",
      "Epoch 93/100\n",
      "38/38 [==============================] - 4s 110ms/step - loss: 0.0016\n",
      "Epoch 94/100\n",
      "38/38 [==============================] - 4s 106ms/step - loss: 0.0016\n",
      "Epoch 95/100\n",
      "38/38 [==============================] - 4s 108ms/step - loss: 0.0015\n",
      "Epoch 96/100\n",
      "38/38 [==============================] - 4s 109ms/step - loss: 0.0016\n",
      "Epoch 97/100\n",
      "38/38 [==============================] - 4s 107ms/step - loss: 0.0015\n",
      "Epoch 98/100\n",
      "38/38 [==============================] - 4s 108ms/step - loss: 0.0014\n",
      "Epoch 99/100\n",
      "38/38 [==============================] - 4s 105ms/step - loss: 0.0015\n",
      "Epoch 100/100\n",
      "38/38 [==============================] - 4s 105ms/step - loss: 0.0014\n"
     ]
    },
    {
     "data": {
      "text/plain": [
       "<keras.callbacks.History at 0x24c35ecd880>"
      ]
     },
     "execution_count": 17,
     "metadata": {},
     "output_type": "execute_result"
    }
   ],
   "source": [
    "#training the rnn\n",
    "regressor.fit(x_train,y_train,epochs=100, batch_size=32)"
   ]
  },
  {
   "cell_type": "markdown",
   "id": "6ade0b5c",
   "metadata": {},
   "source": [
    "### Evaluation"
   ]
  },
  {
   "cell_type": "code",
   "execution_count": 18,
   "id": "4fa57157",
   "metadata": {},
   "outputs": [],
   "source": [
    "dataset_test=pd.read_csv(r\"dataset\\Google_Stock_Price_Test.csv\")\n",
    "real_stock_price=dataset_test.iloc[:,1:2].values"
   ]
  },
  {
   "cell_type": "code",
   "execution_count": 22,
   "id": "0474cbf7",
   "metadata": {},
   "outputs": [],
   "source": [
    "#prediction\n",
    "#we need the previous 60 values from the training set\n",
    "#axis=0 for horizontal concatenation\n",
    "dataset_total = pd.concat((df_train['Open'],dataset_test['Open']),axis=0)\n",
    "\n",
    "#the inputs contain the 60 previous values before Jan 2017 \n",
    "inputs=dataset_total[len(dataset_total)-len(dataset_test)-60:].values\n",
    "\n",
    "inputs=inputs.reshape(-1,1)\n",
    "inputs=sc.transform(inputs)\n",
    "\n",
    "x_test = []\n",
    "for i in range(60,80):\n",
    "    x_test.append(inputs[i-60:i,0])\n",
    "    \n",
    "x_test= np.array(x_test)\n",
    "x_test=np.reshape(x_test,(x_test.shape[0],x_test.shape[1],1))"
   ]
  },
  {
   "cell_type": "code",
   "execution_count": 23,
   "id": "33aa46a9",
   "metadata": {},
   "outputs": [
    {
     "name": "stdout",
     "output_type": "stream",
     "text": [
      "1/1 [==============================] - 2s 2s/step\n"
     ]
    }
   ],
   "source": [
    "y_pred=regressor.predict(x_test)\n",
    "#inverse the scaling\n",
    "y_pred=sc.inverse_transform(y_pred)"
   ]
  },
  {
   "cell_type": "code",
   "execution_count": 27,
   "id": "815e8b69",
   "metadata": {},
   "outputs": [
    {
     "data": {
      "image/png": "[encoded data removed]",
      "text/plain": [
       "<Figure size 432x288 with 1 Axes>"
      ]
     },
     "metadata": {
      "needs_background": "light"
     },
     "output_type": "display_data"
    }
   ],
   "source": [
    "#visualisation of the results\n",
    "plt.plot(real_stock_price, color='red', label='Real Google Stock Price')\n",
    "plt.plot(y_pred, color='green', label='Predicted Google Stock Price')\n",
    "plt.title('Google Stock Price Prediction')\n",
    "plt.xlabel('Time')\n",
    "plt.ylabel('Price')\n",
    "plt.legend()\n",
    "plt.show()"
   ]
  }
 ],
 "metadata": {
  "kernelspec": {
   "display_name": "Python 3 (ipykernel)",
   "language": "python",
   "name": "python3"
  },
  "language_info": {
   "codemirror_mode": {
    "name": "ipython",
    "version": 3
   },
   "file_extension": ".py",
   "mimetype": "text/x-python",
   "name": "python",
   "nbconvert_exporter": "python",
   "pygments_lexer": "ipython3",
   "version": "3.9.12"
  }
 },
 "nbformat": 4,
 "nbformat_minor": 5
}
